{
 "cells": [
  {
   "cell_type": "markdown",
   "metadata": {},
   "source": [
    "# Demo German Credit dataset\n",
    "\n",
    "Author: <alberto.suarez@uam.es> \n"
   ]
  },
  {
   "cell_type": "code",
   "execution_count": null,
   "metadata": {
    "_cell_guid": "4fc4b416-819e-5687-3327-759f13fd7f34"
   },
   "outputs": [],
   "source": [
    "# The packages imported need to be installed in the Python environment.\n",
    "\n",
    "import pandas as pd # data analysis tools\n",
    "import matplotlib.pyplot as plt # plotting utilities\n",
    "import seaborn as sns # statistical data visualization\n",
    "%matplotlib inline\n",
    "\n",
    "# See also: https://www.kaggle.com/code/diegoeliascosta/soen691-germancreditreport"
   ]
  },
  {
   "cell_type": "code",
   "execution_count": null,
   "metadata": {
    "scrolled": true
   },
   "outputs": [],
   "source": [
    "# Load dataset\n",
    "\n",
    "data = pd.read_csv('./data/german_credit_data.csv', sep=';')\n",
    "# Source: https://archive.ics.uci.edu/ml/datasets/statlog+(german+credit+data)\n",
    "\n",
    "print (data.columns)\n",
    "data.head(10)"
   ]
  },
  {
   "cell_type": "code",
   "execution_count": null,
   "metadata": {
    "_cell_guid": "82dd1ddf-709b-a644-eaa0-580cdbbed89b"
   },
   "outputs": [],
   "source": [
    "# Load dataset with numerically encoded attributes and class labels\n",
    "data_numeric = pd.read_csv('./data/german_credit_data_numeric.csv', sep=';')\n",
    "data_numeric.head(10)"
   ]
  },
  {
   "cell_type": "code",
   "execution_count": null,
   "metadata": {
    "_cell_guid": "3cef7a86-3d03-63b0-6ea9-d4518f969ea0"
   },
   "outputs": [],
   "source": [
    "# Data exploration\n",
    "\n",
    "import numpy as np\n",
    "\n",
    "n_plots_per_row = 5\n",
    "    \n",
    "n_unique = data.nunique()\n",
    "\n",
    "# For displaying purposes, pick attributes that have between 1 and 50 unique values\n",
    "data_plot = data[[col for col in data if n_unique[col] > 1 and n_unique[col] < 50]] \n",
    "\n",
    "n_examples, n_attributes = np.shape(data_plot)\n",
    "attribute_names = list(data_plot)\n",
    "\n",
    "n_rows_fig = int(np.ceil((n_attributes - 1) / n_plots_per_row))\n",
    "\n",
    "fig, axes = plt.subplots(\n",
    "    nrows=n_rows_fig,\n",
    "    ncols=n_plots_per_row,\n",
    "    figsize=(6 * n_plots_per_row, 12 * n_rows_fig), \n",
    "    dpi=80, \n",
    "    facecolor='w', \n",
    "    edgecolor='k',\n",
    ")\n",
    "\n",
    "fontsize = 20\n",
    "\n",
    "for index_attribute in range(n_attributes):\n",
    "    row_plot, column_plot = np.divmod(index_attribute, n_plots_per_row) \n",
    "    ax = axes[row_plot, column_plot]\n",
    "\n",
    "    values_plot = data_plot.iloc[:, index_attribute]\n",
    "    if (np.issubdtype(type(values_plot.iloc[0]), np.number)):\n",
    "        values_plot.plot.hist(ax=ax)\n",
    "    else:\n",
    "        values_plot = values_plot.value_counts()\n",
    "        values_plot.plot.bar(ax=ax)\n",
    "\n",
    "    # ax.xaxis.set_tick_params(rotation=90)\n",
    "    ax.tick_params(axis='x', rotation=90, labelsize=fontsize)\n",
    "    ax.set_ylabel('counts', fontsize=fontsize)\n",
    "    ax.set_title(\n",
    "        '{} (column {})'.format(\n",
    "            attribute_names[index_attribute], \n",
    "            index_attribute\n",
    "        ), \n",
    "        fontsize=fontsize,\n",
    "    )\n",
    "\n",
    "plt.tight_layout(pad=1.0, w_pad=1.0, h_pad=1.0)\n",
    "plt.show()"
   ]
  },
  {
   "cell_type": "code",
   "execution_count": null,
   "metadata": {
    "_cell_guid": "3a4fff95-2362-d515-245d-23595581acad"
   },
   "outputs": [],
   "source": [
    "# Data encoding\n",
    "\n",
    "data['account_check_status '] = data['account_check_status '].map(\n",
    "    {'no checking account': 0,\n",
    "     '< 0 DM': 1,\n",
    "     '0 <= ... < 200 DM': 2,\n",
    "     '>= 200 DM / salary assignments for at least 1 year': 3}\n",
    ")\n",
    "data.head(10)"
   ]
  },
  {
   "cell_type": "code",
   "execution_count": null,
   "metadata": {
    "_cell_guid": "8025179b-15bf-e308-5b4c-7fa4ee638225"
   },
   "outputs": [],
   "source": [
    "# Correlations between attributes\n",
    "\n",
    "plt.scatter(data['credit_amount '], data['age '])\n",
    "plt.figure()"
   ]
  },
  {
   "cell_type": "code",
   "execution_count": null,
   "metadata": {
    "_cell_guid": "00a38ae5-c1e6-d858-68d4-b39daff00435"
   },
   "outputs": [],
   "source": [
    "sns.pairplot(data)"
   ]
  },
  {
   "cell_type": "code",
   "execution_count": null,
   "metadata": {
    "_cell_guid": "ae74b420-9a34-430d-e672-b1e45af3e3d6"
   },
   "outputs": [],
   "source": [
    "# Analyzing segmented data\n",
    "\n",
    "attribute_name = 'credit_amount '\n",
    "threshold = 5000.0\n",
    "\n",
    "masks = [data[attribute_name] <= threshold, data[attribute_name] > threshold]\n",
    "\n",
    "fig, axes = plt.subplots(nrows=1, ncols=len(masks), figsize=(12, 4))\n",
    "\n",
    "for mask, ax in zip(masks, axes):\n",
    "    data_plot = data[mask]    \n",
    "    values_plot = data_plot.loc[:, 'purpose ']\n",
    "\n",
    "    if (np.issubdtype(type(values_plot.iloc[0]), np.number)):\n",
    "        values_plot.plot.hist(values_plot, ax=ax)\n",
    "    else:\n",
    "        values_plot = values_plot.value_counts()\n",
    "        values_plot.plot.bar(ax=ax)\n",
    "\n",
    "    ax.tick_params(axis='x', rotation=90, labelsize=fontsize)\n",
    "    ax.set_ylabel('counts', fontsize=fontsize)\n",
    "    ax.set_title('{}'.format(attribute_name), fontsize=fontsize)\n",
    "\n",
    "fig.suptitle('Threshold = {}'.format(threshold), fontsize=fontsize)\n",
    "    \n",
    "plt.show()"
   ]
  },
  {
   "cell_type": "code",
   "execution_count": null,
   "metadata": {
    "_cell_guid": "2581a726-5703-0e89-613e-9874f337d841"
   },
   "outputs": [],
   "source": [
    "# Clustering\n",
    "\n",
    "from sklearn.cluster import KMeans, SpectralClustering\n",
    "from sklearn.decomposition import PCA, KernelPCA\n",
    "from sklearn.preprocessing import normalize\n",
    "\n",
    "\n",
    "X_norm = normalize(data_numeric);\n",
    "y = KMeans().fit_predict(X_norm)\n",
    "\n",
    "\"\"\"\n",
    "spectral = SpectralClustering(\n",
    "        n_clusters=8, eigen_solver='arpack',\n",
    "        affinity=\"nearest_neighbors\")\n",
    "\n",
    "y = spectral.fit_predict(X_norm)\n",
    "\n",
    "\"\"\"\n",
    "\n",
    "# Dimensionality reduction PCA\n",
    "\n",
    "# linear PCA\n",
    "# X_PCA = PCA(n_components=10).fit_transform(X_norm, 2);\n",
    "\n",
    "# Nonlinear (kernel PCA)\n",
    "gamma = 100000\n",
    "X_PCA = KernelPCA(n_components=10, gamma=gamma).fit_transform(X_norm, 2);\n",
    "\n",
    "# Display clusters\n",
    "\n",
    "fix, axs = plt.subplots(nrows=1, ncols=2, figsize=(14, 5))\n",
    "x1_attribute = 'credit_amount '\n",
    "x2_attribute = 'age '\n",
    "\n",
    "fontsize = 14\n",
    "\n",
    "axs[0].scatter(data[x1_attribute], data[x2_attribute], c=y)\n",
    "axs[0].set_xlabel(x1_attribute, fontsize=fontsize)\n",
    "axs[0].set_ylabel(x2_attribute, fontsize=fontsize)\n",
    "\n",
    "axs[1].scatter(X_PCA[:, 0], X_PCA[:, 1], c=y)\n",
    "axs[1].set_xlabel('1st principal component', fontsize=fontsize)\n",
    "axs[1].set_ylabel('2nd principal component', fontsize=fontsize)\n",
    "\n",
    "plt.show()"
   ]
  },
  {
   "cell_type": "code",
   "execution_count": null,
   "metadata": {},
   "outputs": [],
   "source": []
  }
 ],
 "metadata": {
  "_change_revision": 101,
  "_is_fork": false,
  "kernelspec": {
   "display_name": "Python 3 (ipykernel)",
   "language": "python",
   "name": "python3"
  },
  "language_info": {
   "codemirror_mode": {
    "name": "ipython",
    "version": 3
   },
   "file_extension": ".py",
   "mimetype": "text/x-python",
   "name": "python",
   "nbconvert_exporter": "python",
   "pygments_lexer": "ipython3",
   "version": "3.9.12"
  }
 },
 "nbformat": 4,
 "nbformat_minor": 1
}
